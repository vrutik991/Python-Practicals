{
 "cells": [
  {
   "cell_type": "code",
   "execution_count": 2,
   "id": "236524ab",
   "metadata": {},
   "outputs": [
    {
     "name": "stdout",
     "output_type": "stream",
     "text": [
      "[1, 'a', 'string', 3]\n",
      "[1, 'a', 'string', 3, 6]\n",
      "[1, 'a', 'string', 3]\n",
      "a\n"
     ]
    }
   ],
   "source": [
    "# List\n",
    "L = [1, \"a\" , \"string\" , 1+2]\n",
    "print (L)\n",
    "#Adding an element in the list\n",
    "L.append(6)    \n",
    "print (L)\n",
    "#Deleting last element from a list\n",
    "L.pop()\n",
    "print (L)\n",
    "#Displaying Second element of the list\n",
    "print (L[1])"
   ]
  },
  {
   "cell_type": "code",
   "execution_count": 3,
   "id": "bd590a76",
   "metadata": {},
   "outputs": [
    {
     "name": "stdout",
     "output_type": "stream",
     "text": [
      "(1, 'a', 'string', 3)\n",
      "a\n"
     ]
    }
   ],
   "source": [
    "#Tuples\n",
    "tup = (1, \"a\", \"string\", 1+2)\n",
    "print(tup)\n",
    "print(tup[1])"
   ]
  },
  {
   "cell_type": "code",
   "execution_count": 9,
   "id": "b39273b4",
   "metadata": {},
   "outputs": [
    {
     "name": "stdout",
     "output_type": "stream",
     "text": [
      "{'brand': 'Ford', 'model': 'Mustang', 'year': 1964}\n"
     ]
    }
   ],
   "source": [
    "thisdict = {\n",
    "  \"brand\": \"Ford\",\n",
    "  \"model\": \"Mustang\",\n",
    "  \"year\": 1964\n",
    "}\n",
    "print(thisdict)"
   ]
  },
  {
   "cell_type": "code",
   "execution_count": null,
   "id": "f05f88a0",
   "metadata": {},
   "outputs": [],
   "source": []
  }
 ],
 "metadata": {
  "kernelspec": {
   "display_name": "Python 3 (ipykernel)",
   "language": "python",
   "name": "python3"
  },
  "language_info": {
   "codemirror_mode": {
    "name": "ipython",
    "version": 3
   },
   "file_extension": ".py",
   "mimetype": "text/x-python",
   "name": "python",
   "nbconvert_exporter": "python",
   "pygments_lexer": "ipython3",
   "version": "3.11.5"
  }
 },
 "nbformat": 4,
 "nbformat_minor": 5
}
