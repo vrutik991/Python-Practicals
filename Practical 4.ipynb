{
 "cells": [
  {
   "cell_type": "code",
   "execution_count": 8,
   "id": "3f649e13",
   "metadata": {},
   "outputs": [
    {
     "name": "stdout",
     "output_type": "stream",
     "text": [
      "a is greater than 10\n",
      "a is not smaller than 10\n"
     ]
    }
   ],
   "source": [
    "#If\n",
    "a = 15\n",
    "if (a > 10):\n",
    "    print(\"a is greater than 10\")\n",
    "print(\"a is not smaller than 10\")\n"
   ]
  },
  {
   "cell_type": "code",
   "execution_count": 9,
   "id": "aa6614cd",
   "metadata": {},
   "outputs": [
    {
     "name": "stdout",
     "output_type": "stream",
     "text": [
      "a is True\n"
     ]
    }
   ],
   "source": [
    "#If-else\n",
    "a = True\n",
    "if(a):\n",
    "    print(\"a is True\")\n",
    "else:\n",
    "    print(\"a is False\")"
   ]
  },
  {
   "cell_type": "code",
   "execution_count": 15,
   "id": "b3ff4e6d",
   "metadata": {},
   "outputs": [
    {
     "name": "stdout",
     "output_type": "stream",
     "text": [
      "i is greater than 15\n"
     ]
    }
   ],
   "source": [
    "#Nested_if\n",
    "i = 16\n",
    "if (i > 10): \n",
    "    \n",
    "    #  First if statement \n",
    "    if (i < 15): \n",
    "        print(\"i is smaller than 15\") \n",
    "          \n",
    "    # Nested - if statement \n",
    "    # Will only be executed if statement above \n",
    "    # it is true \n",
    "    if (i < 12): \n",
    "        print(\"i is smaller than 12 too\") \n",
    "    else: \n",
    "        print(\"i is greater than 15\")"
   ]
  },
  {
   "cell_type": "code",
   "execution_count": 16,
   "id": "f3c63152",
   "metadata": {},
   "outputs": [
    {
     "name": "stdout",
     "output_type": "stream",
     "text": [
      "i is 20\n"
     ]
    }
   ],
   "source": [
    "#if-elif-else Ladder\n",
    "i = 20\n",
    "if (i == 10): \n",
    "    print(\"i is 10\") \n",
    "elif (i == 15): \n",
    "    print(\"i is 15\") \n",
    "elif (i == 20): \n",
    "    print(\"i is 20\") \n",
    "else: \n",
    "    print(\"i is not present\") "
   ]
  },
  {
   "cell_type": "code",
   "execution_count": 18,
   "id": "5ef3621b",
   "metadata": {},
   "outputs": [
    {
     "name": "stdout",
     "output_type": "stream",
     "text": [
      "i is greater than 10\n"
     ]
    }
   ],
   "source": [
    "# shorthand if\n",
    "i = 15\n",
    "if(i > 10): print(\"i is greater than 10\")"
   ]
  },
  {
   "cell_type": "code",
   "execution_count": 24,
   "id": "faa5fe0b",
   "metadata": {},
   "outputs": [
    {
     "name": "stdout",
     "output_type": "stream",
     "text": [
      "i is greater than 10\n"
     ]
    }
   ],
   "source": [
    "# Shorthand if-else\n",
    "i = 15\n",
    "print(\"i is greater than 10\") if i>10 else print(\"small\")"
   ]
  },
  {
   "cell_type": "code",
   "execution_count": null,
   "id": "7340f905",
   "metadata": {},
   "outputs": [],
   "source": []
  }
 ],
 "metadata": {
  "kernelspec": {
   "display_name": "Python 3 (ipykernel)",
   "language": "python",
   "name": "python3"
  },
  "language_info": {
   "codemirror_mode": {
    "name": "ipython",
    "version": 3
   },
   "file_extension": ".py",
   "mimetype": "text/x-python",
   "name": "python",
   "nbconvert_exporter": "python",
   "pygments_lexer": "ipython3",
   "version": "3.11.5"
  }
 },
 "nbformat": 4,
 "nbformat_minor": 5
}
